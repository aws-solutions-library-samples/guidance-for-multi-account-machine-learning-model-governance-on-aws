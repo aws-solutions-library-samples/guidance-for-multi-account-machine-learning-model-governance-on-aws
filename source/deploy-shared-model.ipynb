{
 "cells": [
  {
   "cell_type": "markdown",
   "id": "78db4b4a-378a-41fe-a87d-14915b56fb69",
   "metadata": {},
   "source": [
    "# Deploy a Model from a shared Model Package Group"
   ]
  },
  {
   "cell_type": "code",
   "execution_count": null,
   "id": "72dce71f-c5cb-44b3-bb5d-f2ff68a2d4c4",
   "metadata": {},
   "outputs": [],
   "source": [
    "import json\n",
    "from sagemaker import ModelPackage\n",
    "import sagemaker\n",
    "from sagemaker import get_execution_role\n",
    "from IPython.core.display import Image, display\n",
    "from time import gmtime, strftime\n"
   ]
  },
  {
   "cell_type": "markdown",
   "id": "3baed713",
   "metadata": {},
   "source": [
    "Before you get started, check if there are any pending invitations from the shared services account \n",
    "and accept them. \n",
    "This will allow you to discover share model package groups and register your model versions against them."
   ]
  },
  {
   "cell_type": "code",
   "execution_count": null,
   "id": "76b8c0ec-2fba-4706-a6a3-2d95831a9631",
   "metadata": {},
   "outputs": [],
   "source": [
    "# set required parameters used in cells below\n",
    "# Hub / Shared Account ID\n",
    "hub_account_id = 'AWS_ACCOUNT_ID'\n",
    "# Region used in the Hub account deployments\n",
    "hub_region = 'AWS_REGION'\n",
    "# KMS Key id deployed in the Hub account\n",
    "hub_kms_key_id = 'KMS_KEY_ID'\n",
    "# S3 bucket name created in the Hub account (The template HubS3BucketName parameter value)\n",
    "hub_s3_bucket_name = 'HubS3BucketName parameter value used in Cloudformation'\n",
    "\n",
    "# derive KMS key ARN\n",
    "hub_kms_key_arn = 'arn:aws:kms:{hub_region}:{hub_account_id}:key/{hub_kms_key_id}'.format(\n",
    "    hub_account_id=hub_account_id,\n",
    "    hub_region=hub_region,\n",
    "    hub_kms_key_id=hub_kms_key_id\n",
    ")\n",
    "\n",
    "# set the s3 bucket full name\n",
    "hub_s3_bucket = 'sagemaker-{hub_region}-{hub_account_id}-{hub_s3_bucket_name}'.format(\n",
    "    hub_region=hub_region,\n",
    "    hub_account_id=hub_account_id,\n",
    "    hub_s3_bucket_name=hub_s3_bucket_name\n",
    ")"
   ]
  },
  {
   "cell_type": "code",
   "execution_count": null,
   "id": "ddb3436e-19ab-49a6-9162-86f7ddbcfa6e",
   "metadata": {},
   "outputs": [],
   "source": [
    "shared_model_bucket_name = hub_s3_bucket\n",
    "kms_key_id = hub_kms_key_arn\n",
    "\n",
    "from botocore.client import ClientError\n",
    "import boto3\n",
    "s3_client = boto3.resource('s3')\n",
    "bucket = s3_client.Bucket(shared_model_bucket_name)\n",
    "try:\n",
    "    s3_client.meta.client.head_bucket(Bucket=shared_model_bucket_name)\n",
    "    print(\"The bucket \"+shared_model_bucket_name+\" exists and you have access.\")\n",
    "except ClientError:\n",
    "    print(\"The bucket \"+shared_model_bucket_name+\" does not exist or you have no access.\")\n",
    "    raise\n",
    "\n",
    "kms_client = boto3.client('kms')\n",
    "try:\n",
    "    response = kms_client.describe_key(\n",
    "        # An identifier for the KMS key. You can use the key ID, key ARN, alias name, alias ARN of the KMS key.\n",
    "        KeyId=kms_key_id,\n",
    "    )\n",
    "    print(\"The KMS \"+kms_key_id+\" key exists and you have access.\")\n",
    "except ClientError:\n",
    "    print(\"The KMS key \"+kms_key_id+\" does not exist or you have no access.\")\n",
    "    raise"
   ]
  },
  {
   "cell_type": "code",
   "execution_count": null,
   "id": "c63c7c12-78bd-446a-9af8-86ea669e400f",
   "metadata": {},
   "outputs": [],
   "source": [
    "role = get_execution_role()\n",
    "sagemaker_session = sagemaker.Session()\n",
    "boto3 = sagemaker_session.boto_session\n",
    "bucket = shared_model_bucket_name\n",
    "region = sagemaker_session.boto_region_name\n",
    "\n",
    "s3 = boto3.client(\"s3\")\n",
    "runtime = boto3.client(\"runtime.sagemaker\")\n",
    "sagemaker_client = boto3.client(\"sagemaker\")"
   ]
  },
  {
   "cell_type": "code",
   "execution_count": null,
   "id": "3424090c-b9f0-4ddc-a066-4d6c0f23230f",
   "metadata": {},
   "outputs": [],
   "source": [
    "response = sagemaker_client.list_model_package_groups(CrossAccountFilterOption=\"CrossAccount\")\n",
    "print(response)\n",
    "model_package_group_arn = response['ModelPackageGroupSummaryList'][0]['ModelPackageGroupArn']\n",
    "print(model_package_group_arn)\n",
    "model_package_group_name = response['ModelPackageGroupSummaryList'][0]['ModelPackageGroupName']\n",
    "print(model_package_group_name)"
   ]
  },
  {
   "cell_type": "code",
   "execution_count": null,
   "id": "358033c6-79a8-4d79-8ac2-33c2a14c1c2f",
   "metadata": {},
   "outputs": [],
   "source": [
    "real_time_inference_instance_type = \"ml.m5.xlarge\""
   ]
  },
  {
   "cell_type": "code",
   "execution_count": null,
   "id": "a25b6af5-e35c-4f14-ac8f-f0ef9375698d",
   "metadata": {},
   "outputs": [],
   "source": [
    "response = sagemaker_client.list_model_package_groups(CrossAccountFilterOption=\"CrossAccount\")\n",
    "model_package_group_name = response['ModelPackageGroupSummaryList'][0]['ModelPackageGroupName']\n",
    "print(\"Found Model Package Group with name\",model_package_group_name)\n",
    "\n",
    "response = sagemaker_client.list_model_packages(\n",
    "    # NameContains='string',\n",
    "    ModelApprovalStatus='Approved',\n",
    "    ModelPackageGroupName=model_package_group_arn,\n",
    "    # ModelPackageType='Versioned',\n",
    "    SortBy='CreationTime',\n",
    "    SortOrder='Descending'\n",
    ")\n",
    "# print(model_package_group_name,response)\n",
    "\n",
    "if len(response['ModelPackageSummaryList'])>0:\n",
    "    model_version_arn = response['ModelPackageSummaryList'][0]['ModelPackageArn']\n",
    "else:\n",
    "    print(\"Could not find a model in Approved state\")\n",
    "    raise\n",
    "\n",
    "print(\"Selected latest created and approved model, with model_version_arn:\",model_version_arn)"
   ]
  },
  {
   "cell_type": "code",
   "execution_count": null,
   "id": "101a5ee8-d907-489b-8ead-95447347bc29",
   "metadata": {},
   "outputs": [],
   "source": [
    "container_list = [{'ModelPackageName': model_version_arn}]\n",
    "container_list"
   ]
  },
  {
   "cell_type": "markdown",
   "id": "e30faf2b-11b0-44e0-b9e6-ae7d91f2d6a3",
   "metadata": {},
   "source": [
    "#### Before to be able to create a model, you need to move the model status to \"Approved\" in the Shared Registry"
   ]
  },
  {
   "cell_type": "code",
   "execution_count": null,
   "id": "fd060390-4c5f-4fb1-95c0-e34666ef6ee2",
   "metadata": {},
   "outputs": [],
   "source": [
    "model_name = \"CreditRisk\""
   ]
  },
  {
   "cell_type": "code",
   "execution_count": null,
   "id": "7d40308c-79a9-4fb0-84dd-5e7c1f515b70",
   "metadata": {},
   "outputs": [],
   "source": [
    "container_list = [\n",
    "    {\n",
    "        'ModelPackageName': model_version_arn\n",
    "    }\n",
    "]\n",
    "\n",
    "create_model_response = sagemaker_client.create_model(\n",
    "    ModelName = model_name,\n",
    "    ExecutionRoleArn = role,\n",
    "    Containers = container_list,\n",
    ")\n",
    "print(\"Model arn : {}\".format(create_model_response[\"ModelArn\"]))"
   ]
  },
  {
   "cell_type": "code",
   "execution_count": null,
   "id": "00bdeca2-64e3-4265-a18f-f206fff3f076",
   "metadata": {},
   "outputs": [],
   "source": [
    "endpoint_config_name = 'DEMO-CreditRisk-EndpointConfig-' + strftime(\"%Y-%m-%d-%H-%M-%S\", gmtime())\n",
    "print(endpoint_config_name)\n",
    "create_endpoint_config_response = sagemaker_client.create_endpoint_config(\n",
    "    EndpointConfigName = endpoint_config_name,\n",
    "    KmsKeyId=kms_key_id,  # This is the correct place to specify the KMS key  \n",
    "    DataCaptureConfig={\n",
    "        'EnableCapture': True,\n",
    "        'InitialSamplingPercentage': 100,\n",
    "        'DestinationS3Uri': 's3://' + hub_s3_bucket + '/model-monitor/',\n",
    "        'KmsKeyId': kms_key_id,\n",
    "        'CaptureOptions': [\n",
    "            {\n",
    "                # 'CaptureMode': 'InputAndOutput' # endpoint create fails with this mode\n",
    "                'CaptureMode': 'Input'\n",
    "            },\n",
    "        ],\n",
    "        'CaptureContentTypeHeader': {\n",
    "            'CsvContentTypes': [\n",
    "                'text/csv',\n",
    "            ],\n",
    "            'JsonContentTypes': [\n",
    "                'application/json',\n",
    "            ]\n",
    "        }\n",
    "    },\n",
    "    ProductionVariants=[{\n",
    "        'InstanceType':real_time_inference_instance_type,\n",
    "        'InitialVariantWeight':1,\n",
    "        'InitialInstanceCount':1,\n",
    "        'ModelName':model_name,\n",
    "        'VariantName':'AllTraffic'}],\n",
    "        Tags=[\n",
    "            {\n",
    "                'Key': 'MODEL_PACKAGE_ARN',\n",
    "                'Value': model_version_arn\n",
    "            }\n",
    "        ])"
   ]
  },
  {
   "cell_type": "markdown",
   "id": "8d117f8d-1e78-40a3-a4f5-b3932e389a13",
   "metadata": {},
   "source": [
    "### Deploy and test the model to an endpoint"
   ]
  },
  {
   "cell_type": "code",
   "execution_count": null,
   "id": "b78275bc-08e2-4f26-84f3-881a3c43ed1f",
   "metadata": {},
   "outputs": [],
   "source": [
    "endpoint_name = 'DEMO-CreditRisk-endpoint-' + strftime(\"%Y-%m-%d-%H-%M-%S\", gmtime())\n",
    "print(\"EndpointName={}\".format(endpoint_name))\n",
    "\n",
    "create_endpoint_response = sagemaker_client.create_endpoint(\n",
    "    EndpointName=endpoint_name,\n",
    "    EndpointConfigName=endpoint_config_name)\n",
    "print(create_endpoint_response['EndpointArn'])\n",
    "\n",
    "# wait for the endpoint to become available\n",
    "waiter = sagemaker_client.get_waiter('endpoint_in_service')\n",
    "waiter.wait(\n",
    "    EndpointName=endpoint_name,\n",
    "    WaiterConfig={\n",
    "        'Delay': 30,\n",
    "        'MaxAttempts': 120\n",
    "    }\n",
    ")\n",
    "print(\"Endpoint created\")"
   ]
  },
  {
   "cell_type": "code",
   "execution_count": null,
   "id": "81e7abff-640a-4a01-b3df-874b04d0600c",
   "metadata": {},
   "outputs": [],
   "source": [
    "# Retrieve the last serialized \n",
    "s3 = boto3.client('s3')\n",
    "get_last_modified = lambda obj: int(obj['LastModified'].strftime('%s'))\n",
    "objs = s3.list_objects_v2(Bucket=hub_s3_bucket)['Contents']\n",
    "latest_model_featurizer = [obj['Key'] for obj in sorted(objs, key=get_last_modified) if \"model_featurizer_\" in obj['Key']][-1]\n",
    "print(\"Downloading and extracting the latest_model_featurizer\",f\"s3://{hub_s3_bucket}/{latest_model_featurizer}\")\n",
    "\n",
    "\n",
    "s3 = boto3.client('s3')\n",
    "s3.download_file(hub_s3_bucket, latest_model_featurizer, 'model_featurizer.tar.gz')\n",
    "! tar -xvzf model_featurizer.tar.gz"
   ]
  },
  {
   "cell_type": "markdown",
   "id": "0203397e-4a20-4d5c-b63b-7d9aa03791a4",
   "metadata": {},
   "source": [
    "#### UCI Machine Learning Repository Data Usage Disclaimer\n",
    "\n",
    "Before proceeding with any code execution or data download, please read and acknowledge the following:\n",
    "\n",
    "#### Disclaimer\n",
    "\n",
    "The following code and any datasets it may download or use adhere to the UCI Machine Learning Repository citation policy. This includes properly citing both the UCI Machine Learning Repository itself and any relevant papers associated with specific datasets. No modification or distribution of UCI datasets is permitted without proper authorization.\n",
    "\n",
    "#### Confirmation\n",
    "\n",
    "Please confirm that you have read and agree to these terms before proceeding\n",
    "\n",
    "If agree continue to with copying url https://archive.ics.uci.edu/static/public/573/south+german+credit+update.zip and replace in the cell below.\n",
    "\n",
    "Note: This step reuses the data used to train the original model. We make use of the same data here to illustrate running inferences against an endpoint. You will need to adjust this step to use your data in your environments."
   ]
  },
  {
   "cell_type": "code",
   "execution_count": null,
   "id": "b71c119d",
   "metadata": {},
   "outputs": [],
   "source": []
  },
  {
   "cell_type": "markdown",
   "id": "75bd207e",
   "metadata": {},
   "source": []
  },
  {
   "cell_type": "markdown",
   "id": "d42eee5a",
   "metadata": {},
   "source": []
  },
  {
   "cell_type": "code",
   "execution_count": null,
   "id": "4ed2caa5-c1b3-4222-944d-84b76e257dee",
   "metadata": {},
   "outputs": [],
   "source": [
    "# Recreate the test.csv dataset locally, using the same sampling seed/state\n",
    "# download and extract the dataset\n",
    "!mkdir -p data\n",
    "!rm -rf data/*\n",
    "!wget -N --no-check-certificate #replace-url-here\n",
    "!unzip south+german+credit+update.zip -d data"
   ]
  },
  {
   "cell_type": "code",
   "execution_count": null,
   "id": "346322c5-aac4-40a1-8d0b-63949ddd606a",
   "metadata": {},
   "outputs": [],
   "source": [
    "import pandas as pd\n",
    "credit_columns = [\n",
    "    \"status\",\n",
    "    \"duration\",\n",
    "    \"credit_history\",\n",
    "    \"purpose\",\n",
    "    \"amount\",\n",
    "    \"savings\",\n",
    "    \"employment_duration\",\n",
    "    \"installment_rate\",\n",
    "    \"personal_status_sex\",\n",
    "    \"other_debtors\",\n",
    "    \"present_residence\",\n",
    "    \"property\",\n",
    "    \"age\",\n",
    "    \"other_installment_plans\",\n",
    "    \"housing\",\n",
    "    \"number_credits\",\n",
    "    \"job\",\n",
    "    \"people_liable\",\n",
    "    \"telephone\",\n",
    "    \"foreign_worker\",\n",
    "    \"credit_risk\",\n",
    "]\n",
    "\n",
    "training_data = pd.read_csv(\n",
    "    \"data/SouthGermanCredit.asc\",\n",
    "    names=credit_columns,\n",
    "    header=0,\n",
    "    sep=r\" \",\n",
    "    engine=\"python\",\n",
    "    na_values=\"?\",\n",
    ").dropna()\n",
    "\n",
    "test_data = training_data.sample(frac=0.1, random_state=42)\n",
    "test_data = test_data.drop(\"credit_risk\", axis=1)\n",
    "test_columns = [\n",
    "    \"status\",\n",
    "    \"duration\",\n",
    "    \"credit_history\",\n",
    "    \"purpose\",\n",
    "    \"amount\",\n",
    "    \"savings\",\n",
    "    \"employment_duration\",\n",
    "    \"installment_rate\",\n",
    "    \"personal_status_sex\",\n",
    "    \"other_debtors\",\n",
    "    \"present_residence\",\n",
    "    \"property\",\n",
    "    \"age\",\n",
    "    \"other_installment_plans\",\n",
    "    \"housing\",\n",
    "    \"number_credits\",\n",
    "    \"job\",\n",
    "    \"people_liable\",\n",
    "    \"telephone\",\n",
    "    \"foreign_worker\",\n",
    "]\n",
    "\n",
    "training_data.to_csv(\"train.csv\", index=False, header=True, columns=credit_columns)\n",
    "test_data.to_csv(\"test.csv\", index=False, header=True, columns=test_columns)"
   ]
  },
  {
   "cell_type": "code",
   "execution_count": null,
   "id": "9b302d44-aa96-40f6-b9ec-aec02890686b",
   "metadata": {},
   "outputs": [],
   "source": [
    "# sample the full payload\n",
    "payload_df = pd.read_csv(\"test.csv\")\n",
    "\n",
    "realtime_inference_test = payload_df.sample(n=10)\n",
    "\n",
    "realtime_inference_test.to_csv(\"realtime.csv\", index=False\n",
    "                               # , header=False\n",
    "                              )"
   ]
  },
  {
   "cell_type": "code",
   "execution_count": null,
   "id": "2c14ed00-e969-4466-80d4-f0bf43c248d8",
   "metadata": {},
   "outputs": [],
   "source": [
    "# retrieve the samples data\n",
    "df1 = pd.read_csv('realtime.csv')\n",
    "# Convert to CSV string\n",
    "csv_data = df1.to_csv(index=False, header=False)"
   ]
  },
  {
   "cell_type": "code",
   "execution_count": null,
   "id": "274fd8cd-8267-49ba-978d-672769e815aa",
   "metadata": {},
   "outputs": [],
   "source": [
    "import warnings\n",
    "import pandas as pd\n",
    "import numpy as np\n",
    "import tarfile\n",
    "import sklearn\n",
    "import joblib\n",
    "import mlflow\n",
    "from sagemaker.s3 import S3Uploader\n",
    "import os\n",
    "import joblib\n",
    "\n",
    "from sklearn.model_selection import train_test_split\n",
    "from sklearn.preprocessing import OneHotEncoder, LabelEncoder\n",
    "from sklearn.compose import make_column_transformer\n",
    "\n",
    "from sklearn.exceptions import DataConversionWarning\n",
    "from sagemaker.remote_function import remote\n",
    "\n",
    "\n",
    "def preprocess(df):\n",
    "    \"\"\"\n",
    "    Preprocess the input data and split it into training and validation sets.\n",
    "\n",
    "    Args:\n",
    "        df (pandas.DataFrame): Input data.\n",
    "        experiment_name (str): Name of the MLflow experiment.\n",
    "        run_id (str, optional): MLflow run ID. If not provided, a new run will be created.\n",
    "        mlflow_arn (str, optional): MLflow tracking URI.\n",
    "        s3_root_folder (str, optional): S3 root folder for remote execution.\n",
    "\n",
    "    Returns:\n",
    "        tuple: A tuple containing the training and validation features and labels.\n",
    "    \"\"\"\n",
    "    try:\n",
    "        print(\"Performing one-hot encoding\")\n",
    "        categorical_cols = [\n",
    "            \"credit_history\",\n",
    "            \"purpose\",\n",
    "            \"personal_status_sex\",\n",
    "            \"other_debtors\",\n",
    "            \"property\",\n",
    "            \"other_installment_plans\",\n",
    "            \"housing\",\n",
    "            \"job\",\n",
    "            \"telephone\",\n",
    "            \"foreign_worker\",\n",
    "        ]\n",
    "        print(\"Preparing features and labels\")\n",
    "        X = df.drop(\"credit_risk\", axis=1,errors='ignore')\n",
    "\n",
    "        with (open(\"model.joblib\", \"rb\")) as openfile:\n",
    "            featurizer_model = joblib.load(openfile)\n",
    "            \n",
    "        print(\"Retrieving the scikit-learn transformer\",type(featurizer_model))\n",
    "        X_test = featurizer_model.transform(X)\n",
    "        print(f\"Train features shape after preprocessing: {X_test.shape}\")\n",
    "        \n",
    "        return X_test\n",
    "        \n",
    "    except Exception as e:\n",
    "        print(f\"Exception in processing script: {e}\")\n",
    "        raise e"
   ]
  },
  {
   "cell_type": "code",
   "execution_count": null,
   "id": "1c5d512d-869e-4739-afe5-1ced1783d360",
   "metadata": {},
   "outputs": [],
   "source": [
    "paylod_input = preprocess(df1)\n",
    "print(\"Number of samples in the payload:\",len(paylod_input))"
   ]
  },
  {
   "cell_type": "code",
   "execution_count": null,
   "id": "e0d44bab-4735-49f3-9be0-920906a71435",
   "metadata": {},
   "outputs": [],
   "source": [
    "import boto3\n",
    "from sagemaker.predictor import Predictor\n",
    "from sagemaker.serializers import CSVSerializer\n",
    "\n",
    "# Create predictor\n",
    "predictor = Predictor(\n",
    "    endpoint_name=endpoint_name,\n",
    "    serializer=CSVSerializer()\n",
    ")\n",
    "\n",
    "response = predictor.predict(paylod_input,initial_args={'ContentType': 'text/csv'})\n",
    "print(response)\n",
    "\n",
    "\n",
    "## uncomment the code below to run a continous loop to run inference for n number of steps\n",
    "import time\n",
    "wait_loop_seconds = 60\n",
    "next_token = time.time() + wait_loop_seconds\n",
    "n_steps = 1000 # only invoke the endpoint up to this number\n",
    "t_steps = 0 # keep track of the number of invocations\n",
    "while True:\n",
    "    if time.time() > next_token:\n",
    "        response = predictor.predict(paylod_input,initial_args={'ContentType': 'text/csv'})\n",
    "        next_token = time.time() + wait_loop_seconds\n",
    "        t_steps += 1\n",
    "        if t_steps > n_steps: # requested number of invocations completed, exit loop\n",
    "            break"
   ]
  },
  {
   "cell_type": "markdown",
   "id": "af5ce1e9-0b7c-4310-98c4-ba45f5dca98e",
   "metadata": {},
   "source": [
    "## Resources Cleanup"
   ]
  },
  {
   "cell_type": "code",
   "execution_count": null,
   "id": "c00a5c0a-4a2a-45a1-92f6-0dcdbfc25f25",
   "metadata": {},
   "outputs": [],
   "source": [
    "break # prevent running cells below automatically when running all cells at once"
   ]
  },
  {
   "cell_type": "code",
   "execution_count": null,
   "id": "ae2d4da4-ca5c-4862-938b-6c83e9047aa7",
   "metadata": {},
   "outputs": [],
   "source": [
    "sagemaker_client.delete_model(\n",
    "    ModelName = model_name,\n",
    ")"
   ]
  },
  {
   "cell_type": "code",
   "execution_count": null,
   "id": "c30b1287-c8c7-4b96-b537-46cc33bd2bca",
   "metadata": {},
   "outputs": [],
   "source": [
    "sagemaker_client.delete_endpoint_config(\n",
    "    EndpointConfigName = endpoint_config_name\n",
    ")"
   ]
  },
  {
   "cell_type": "code",
   "execution_count": null,
   "id": "931717e6-1a9f-43bf-88fd-ed0fd2055067",
   "metadata": {},
   "outputs": [],
   "source": [
    "sagemaker_client.delete_endpoint(\n",
    "    EndpointName=endpoint_name\n",
    ")"
   ]
  },
  {
   "cell_type": "code",
   "execution_count": null,
   "id": "47ca8289-7a3d-4dc0-9daa-af3ef58a2bb3",
   "metadata": {},
   "outputs": [],
   "source": []
  },
  {
   "cell_type": "code",
   "execution_count": null,
   "id": "7f58a129-5afd-443f-8b8a-eb4838eb48be",
   "metadata": {},
   "outputs": [],
   "source": []
  }
 ],
 "metadata": {
  "kernelspec": {
   "display_name": "Python 3 (ipykernel)",
   "language": "python",
   "name": "python3"
  },
  "language_info": {
   "codemirror_mode": {
    "name": "ipython",
    "version": 3
   },
   "file_extension": ".py",
   "mimetype": "text/x-python",
   "name": "python",
   "nbconvert_exporter": "python",
   "pygments_lexer": "ipython3",
   "version": "3.11.10"
  }
 },
 "nbformat": 4,
 "nbformat_minor": 5
}
