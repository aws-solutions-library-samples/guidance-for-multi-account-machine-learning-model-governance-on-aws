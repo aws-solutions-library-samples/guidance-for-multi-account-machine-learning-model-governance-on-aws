{
 "cells": [
  {
   "cell_type": "markdown",
   "id": "78db4b4a-378a-41fe-a87d-14915b56fb69",
   "metadata": {},
   "source": [
    "# Deploy a Model from a shared Model Package Group"
   ]
  },
  {
   "cell_type": "code",
   "execution_count": null,
   "id": "72dce71f-c5cb-44b3-bb5d-f2ff68a2d4c4",
   "metadata": {},
   "outputs": [],
   "source": [
    "import json\n",
    "from sagemaker import ModelPackage\n",
    "import sagemaker\n",
    "from sagemaker import get_execution_role\n",
    "from IPython.core.display import Image, display\n",
    "from time import gmtime, strftime\n"
   ]
  },
  {
   "cell_type": "code",
   "execution_count": null,
   "id": "76b8c0ec-2fba-4706-a6a3-2d95831a9631",
   "metadata": {},
   "outputs": [],
   "source": [
    "# set required parameters used in cells below\n",
    "# Hub / Shared Account ID\n",
    "hub_account_id = 'AWS_ACCOUNT_ID'\n",
    "# Region used in the Hub account deployments\n",
    "hub_region = 'AWS_REGION'\n",
    "# KMS Key id deployed in the Hub account\n",
    "hub_kms_key_id = 'KMS_KEY_ID'\n",
    "# S3 bucket name created in the Hub account (The template HubS3BucketName parameter value)\n",
    "hub_s3_bucket_name = 'HubS3BucketName parameter value used in Cloudformation'\n",
    "\n",
    "# derive KMS key ARN\n",
    "hub_kms_key_arn = 'arn:aws:kms:{hub_region}:{hub_account_id}:key/{hub_kms_key_id}'.format(\n",
    "    hub_account_id=hub_account_id,\n",
    "    hub_region=hub_region,\n",
    "    hub_kms_key_id=hub_kms_key_id\n",
    ")\n",
    "\n",
    "# set the s3 bucket full name\n",
    "hub_s3_bucket = 'sagemaker-{hub_region}-{hub_account_id}-{hub_s3_bucket_name}'.format(\n",
    "    hub_region=hub_region,\n",
    "    hub_account_id=hub_account_id,\n",
    "    hub_s3_bucket_name=hub_s3_bucket_name\n",
    ")"
   ]
  },
  {
   "cell_type": "code",
   "execution_count": null,
   "id": "ddb3436e-19ab-49a6-9162-86f7ddbcfa6e",
   "metadata": {},
   "outputs": [],
   "source": [
    "shared_model_bucket_name = hub_s3_bucket\n",
    "kms_key_id = hub_kms_key_arn\n",
    "\n",
    "from botocore.client import ClientError\n",
    "import boto3\n",
    "s3_client = boto3.resource('s3')\n",
    "bucket = s3_client.Bucket(shared_model_bucket_name)\n",
    "try:\n",
    "    s3_client.meta.client.head_bucket(Bucket=shared_model_bucket_name)\n",
    "    print(\"The bucket \"+shared_model_bucket_name+\" exists and you have access.\")\n",
    "except ClientError:\n",
    "    print(\"The bucket \"+shared_model_bucket_name+\" does not exist or you have no access.\")\n",
    "    raise\n",
    "\n",
    "kms_client = boto3.client('kms')\n",
    "try:\n",
    "    response = kms_client.describe_key(\n",
    "        # An identifier for the KMS key. You can use the key ID, key ARN, alias name, alias ARN of the KMS key.\n",
    "        KeyId=kms_key_id,\n",
    "    )\n",
    "    print(\"The KMS \"+kms_key_id+\" key exists and you have access.\")\n",
    "except ClientError:\n",
    "    print(\"The KMS key \"+kms_key_id+\" does not exist or you have no access.\")\n",
    "    raise"
   ]
  },
  {
   "cell_type": "code",
   "execution_count": null,
   "id": "c63c7c12-78bd-446a-9af8-86ea669e400f",
   "metadata": {},
   "outputs": [],
   "source": [
    "role = get_execution_role()\n",
    "sagemaker_session = sagemaker.Session()\n",
    "boto3 = sagemaker_session.boto_session\n",
    "bucket = shared_model_bucket_name\n",
    "region = sagemaker_session.boto_region_name\n",
    "\n",
    "s3 = boto3.client(\"s3\")\n",
    "runtime = boto3.client(\"runtime.sagemaker\")"
   ]
  },
  {
   "cell_type": "code",
   "execution_count": null,
   "id": "b7e5304a-f917-4f3f-8191-e52e5cfda318",
   "metadata": {},
   "outputs": [],
   "source": [
    "sagemaker_client = boto3.client(\"sagemaker\")"
   ]
  },
  {
   "cell_type": "code",
   "execution_count": null,
   "id": "3424090c-b9f0-4ddc-a066-4d6c0f23230f",
   "metadata": {},
   "outputs": [],
   "source": [
    "response = sagemaker_client.list_model_package_groups(CrossAccountFilterOption=\"CrossAccount\")\n",
    "print(response)\n",
    "model_package_group_arn = response['ModelPackageGroupSummaryList'][0]['ModelPackageGroupArn']\n",
    "print(model_package_group_arn)\n",
    "model_package_group_name = response['ModelPackageGroupSummaryList'][0]['ModelPackageGroupName']\n",
    "print(model_package_group_name)"
   ]
  },
  {
   "cell_type": "code",
   "execution_count": null,
   "id": "358033c6-79a8-4d79-8ac2-33c2a14c1c2f",
   "metadata": {},
   "outputs": [],
   "source": [
    "real_time_inference_instance_type = \"ml.m5.xlarge\""
   ]
  },
  {
   "cell_type": "code",
   "execution_count": null,
   "id": "a25b6af5-e35c-4f14-ac8f-f0ef9375698d",
   "metadata": {},
   "outputs": [],
   "source": [
    "response = sagemaker_client.list_model_package_groups(CrossAccountFilterOption=\"CrossAccount\")\n",
    "model_package_group_name = response['ModelPackageGroupSummaryList'][0]['ModelPackageGroupName']\n",
    "print(\"Found Model Package Group with name\",model_package_group_name)\n",
    "\n",
    "response = sagemaker_client.list_model_packages(\n",
    "    # NameContains='string',\n",
    "    ModelApprovalStatus='Approved',\n",
    "    ModelPackageGroupName=model_package_group_arn,\n",
    "    # ModelPackageType='Versioned',\n",
    "    SortBy='CreationTime',\n",
    "    SortOrder='Descending'\n",
    ")\n",
    "# print(model_package_group_name,response)\n",
    "\n",
    "if len(response['ModelPackageSummaryList'])>0:\n",
    "    model_version_arn = response['ModelPackageSummaryList'][0]['ModelPackageArn']\n",
    "else:\n",
    "    print(\"Could not find a model in Approved state\")\n",
    "    raise\n",
    "\n",
    "print(\"Selected latest created and approved model, with model_version_arn:\",model_version_arn)"
   ]
  },
  {
   "cell_type": "code",
   "execution_count": null,
   "id": "101a5ee8-d907-489b-8ead-95447347bc29",
   "metadata": {},
   "outputs": [],
   "source": [
    "container_list = [{'ModelPackageName': model_version_arn}]\n",
    "container_list"
   ]
  },
  {
   "cell_type": "markdown",
   "id": "e30faf2b-11b0-44e0-b9e6-ae7d91f2d6a3",
   "metadata": {},
   "source": [
    "#### Before to be able to create a model, you need to move the model status to \"Approved\" in the Shared Registry"
   ]
  },
  {
   "cell_type": "code",
   "execution_count": null,
   "id": "fd060390-4c5f-4fb1-95c0-e34666ef6ee2",
   "metadata": {},
   "outputs": [],
   "source": [
    "model_name = \"CreditRisk\""
   ]
  },
  {
   "cell_type": "code",
   "execution_count": null,
   "id": "7d40308c-79a9-4fb0-84dd-5e7c1f515b70",
   "metadata": {},
   "outputs": [],
   "source": [
    "container_list = [\n",
    "    {\n",
    "        'ModelPackageName': model_version_arn\n",
    "    }\n",
    "]\n",
    "\n",
    "create_model_response = sagemaker_client.create_model(\n",
    "    ModelName = model_name,\n",
    "    ExecutionRoleArn = role,\n",
    "    Containers = container_list,\n",
    ")\n",
    "print(\"Model arn : {}\".format(create_model_response[\"ModelArn\"]))"
   ]
  },
  {
   "cell_type": "code",
   "execution_count": null,
   "id": "00bdeca2-64e3-4265-a18f-f206fff3f076",
   "metadata": {},
   "outputs": [],
   "source": [
    "endpoint_config_name = 'DEMO-CreditRisk-EndpointConfig-' + strftime(\"%Y-%m-%d-%H-%M-%S\", gmtime())\n",
    "print(endpoint_config_name)\n",
    "create_endpoint_config_response = sagemaker_client.create_endpoint_config(\n",
    "    EndpointConfigName = endpoint_config_name,\n",
    "    KmsKeyId=kms_key_id,  # This is the correct place to specify the KMS key  \n",
    "    ProductionVariants=[{\n",
    "        'InstanceType':'ml.m4.xlarge',\n",
    "        'InitialVariantWeight':1,\n",
    "        'InitialInstanceCount':1,\n",
    "        'ModelName':model_name,\n",
    "        'VariantName':'AllTraffic'}])"
   ]
  },
  {
   "cell_type": "markdown",
   "id": "8d117f8d-1e78-40a3-a4f5-b3932e389a13",
   "metadata": {},
   "source": [
    "### Deploy the model to an endpoint"
   ]
  },
  {
   "cell_type": "code",
   "execution_count": null,
   "id": "b78275bc-08e2-4f26-84f3-881a3c43ed1f",
   "metadata": {},
   "outputs": [],
   "source": [
    "endpoint_name = 'DEMO-CreditRisk-endpoint-' + strftime(\"%Y-%m-%d-%H-%M-%S\", gmtime())\n",
    "print(\"EndpointName={}\".format(endpoint_name))\n",
    "\n",
    "create_endpoint_response = sagemaker_client.create_endpoint(\n",
    "    EndpointName=endpoint_name,\n",
    "    EndpointConfigName=endpoint_config_name)\n",
    "print(create_endpoint_response['EndpointArn'])"
   ]
  },
  {
   "cell_type": "markdown",
   "id": "af5ce1e9-0b7c-4310-98c4-ba45f5dca98e",
   "metadata": {},
   "source": [
    "## Resources Cleanup"
   ]
  },
  {
   "cell_type": "code",
   "execution_count": null,
   "id": "c00a5c0a-4a2a-45a1-92f6-0dcdbfc25f25",
   "metadata": {},
   "outputs": [],
   "source": [
    "break # prevent running cells below automatically when running all cells at once"
   ]
  },
  {
   "cell_type": "code",
   "execution_count": null,
   "id": "ae2d4da4-ca5c-4862-938b-6c83e9047aa7",
   "metadata": {},
   "outputs": [],
   "source": [
    "sagemaker_client.delete_model(\n",
    "    ModelName = model_name,\n",
    ")"
   ]
  },
  {
   "cell_type": "code",
   "execution_count": null,
   "id": "c30b1287-c8c7-4b96-b537-46cc33bd2bca",
   "metadata": {},
   "outputs": [],
   "source": [
    "sagemaker_client.delete_endpoint_config(\n",
    "    EndpointConfigName = endpoint_config_name\n",
    ")"
   ]
  },
  {
   "cell_type": "code",
   "execution_count": null,
   "id": "931717e6-1a9f-43bf-88fd-ed0fd2055067",
   "metadata": {},
   "outputs": [],
   "source": [
    "sagemaker_client.delete_endpoint(\n",
    "    EndpointName=endpoint_name\n",
    ")"
   ]
  },
  {
   "cell_type": "code",
   "execution_count": null,
   "id": "47ca8289-7a3d-4dc0-9daa-af3ef58a2bb3",
   "metadata": {},
   "outputs": [],
   "source": []
  },
  {
   "cell_type": "code",
   "execution_count": null,
   "id": "7f58a129-5afd-443f-8b8a-eb4838eb48be",
   "metadata": {},
   "outputs": [],
   "source": []
  }
 ],
 "metadata": {
  "kernelspec": {
   "display_name": "Python 3 (ipykernel)",
   "language": "python",
   "name": "python3"
  },
  "language_info": {
   "codemirror_mode": {
    "name": "ipython",
    "version": 3
   },
   "file_extension": ".py",
   "mimetype": "text/x-python",
   "name": "python",
   "nbconvert_exporter": "python",
   "pygments_lexer": "ipython3",
   "version": "3.11.10"
  }
 },
 "nbformat": 4,
 "nbformat_minor": 5
}
